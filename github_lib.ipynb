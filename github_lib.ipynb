{
 "cells": [
  {
   "cell_type": "code",
   "execution_count": 135,
   "metadata": {},
   "outputs": [],
   "source": [
    "import os, json, base64, requests, urllib.request, wget\n",
    "\n",
    "from github import Github\n",
    "from selenium import webdriver\n",
    "from selenium.webdriver.common.keys import Keys\n",
    "\n",
    "def repo_scraper(organization='DSI-US-4', repo='course-info'):\n",
    "    with open('credentials.json') as f:\n",
    "        data = json.load(f)\n",
    "    \n",
    "    browser = webdriver.Chrome()\n",
    "    \n",
    "    browser.get('https://git.generalassemb.ly/login')\n",
    "    browser.find_element_by_name(\"login\").send_keys(data['username'])\n",
    "    browser.find_element_by_name(\"password\").send_keys(data['password'])\n",
    "    browser.find_element_by_name(\"commit\").click()\n",
    "        \n",
    "    try:\n",
    "        os.mkdir(repo)\n",
    "    except FileExistsError:\n",
    "        pass\n",
    "    \n",
    "    github = Github(base_url=data['org_url'], login_or_token=data['username'], password=data['password'])\n",
    "\n",
    "    for pull_request in github.get_organization(organization).get_repo(repo).get_pulls():\n",
    "        if pull_request.user.login in data['students']:\n",
    "            user = pull_request.user\n",
    "            dest_repo = user.get_repo(repo)\n",
    "            print(user.login, 'SEA Student')\n",
    "            \n",
    "            try:\n",
    "                os.mkdir(f'{repo}/{user}')\n",
    "            except FileExistsError:\n",
    "                pass\n",
    "            \n",
    "            for file in pull_request.get_files():\n",
    "                browser.get(file.raw_url)\n",
    "\n",
    "            \n",
    "            \n",
    "    #browser.quit()"
   ]
  },
  {
   "cell_type": "code",
   "execution_count": 136,
   "metadata": {},
   "outputs": [
    {
     "name": "stdout",
     "output_type": "stream",
     "text": [
      "markcarrseattle SEA Student\n",
      "zachdg7 SEA Student\n",
      "omar SEA Student\n",
      "Tesfa SEA Student\n",
      "samchakerian SEA Student\n",
      "benzg SEA Student\n"
     ]
    }
   ],
   "source": [
    "repo_scraper(organization='DSI-US-5', repo='project-1')"
   ]
  },
  {
   "cell_type": "code",
   "execution_count": null,
   "metadata": {},
   "outputs": [],
   "source": []
  }
 ],
 "metadata": {
  "kernelspec": {
   "display_name": "Python 3",
   "language": "python",
   "name": "python3"
  },
  "language_info": {
   "codemirror_mode": {
    "name": "ipython",
    "version": 3
   },
   "file_extension": ".py",
   "mimetype": "text/x-python",
   "name": "python",
   "nbconvert_exporter": "python",
   "pygments_lexer": "ipython3",
   "version": "3.6.5"
  }
 },
 "nbformat": 4,
 "nbformat_minor": 2
}
